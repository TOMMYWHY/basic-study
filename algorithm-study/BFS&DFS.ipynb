{
 "cells": [
  {
   "cell_type": "markdown",
   "metadata": {},
   "source": [
    "# BFS&DFS"
   ]
  },
  {
   "cell_type": "code",
   "execution_count": 2,
   "metadata": {
    "ExecuteTime": {
     "end_time": "2020-07-07T23:36:53.552264Z",
     "start_time": "2020-07-07T23:36:53.549269Z"
    }
   },
   "outputs": [],
   "source": [
    "import numpy as np"
   ]
  },
  {
   "cell_type": "markdown",
   "metadata": {},
   "source": [
    "\n",
    "![avatar](./无向图.png)"
   ]
  },
  {
   "cell_type": "code",
   "execution_count": 3,
   "metadata": {
    "ExecuteTime": {
     "end_time": "2020-07-07T23:41:09.902506Z",
     "start_time": "2020-07-07T23:41:09.898266Z"
    }
   },
   "outputs": [],
   "source": [
    "graph={\n",
    "    \"A\":[\"B\",\"C\"],\n",
    "    \"B\":[\"A\",\"C\",\"D\"],\n",
    "    \"C\":[\"A\",\"B\",\"C\",\"E\"],\n",
    "    \"D\":[\"B\",\"C\",\"E\",\"F\"],\n",
    "    \"E\":[\"C\",\"D\"],\n",
    "    \"F\":[\"D\"]\n",
    "}"
   ]
  },
  {
   "cell_type": "code",
   "execution_count": 22,
   "metadata": {
    "ExecuteTime": {
     "end_time": "2020-07-08T00:03:50.375784Z",
     "start_time": "2020-07-08T00:03:50.369427Z"
    }
   },
   "outputs": [],
   "source": [
    "def BFS(graph,start_node):\n",
    "    queue=[]\n",
    "    queue.append(start_node)\n",
    "    seen = set()\n",
    "    seen.add(start_node)\n",
    "    parent_nodes={start_node:None}\n",
    "    \n",
    "    while (len(queue)>0):\n",
    "        vertex =queue.pop(0) #取第一个节点\n",
    "        nodes = graph[vertex]\n",
    "        for node in nodes:\n",
    "            if node not in seen:\n",
    "                queue.append(node)\n",
    "                seen.add(node)\n",
    "                parent_nodes[node]=vertex\n",
    "        print(vertex)\n",
    "\n",
    "    return parent_nodes\n",
    "        "
   ]
  },
  {
   "cell_type": "code",
   "execution_count": 24,
   "metadata": {
    "ExecuteTime": {
     "end_time": "2020-07-08T00:03:57.827492Z",
     "start_time": "2020-07-08T00:03:57.822619Z"
    },
    "scrolled": true
   },
   "outputs": [
    {
     "name": "stdout",
     "output_type": "stream",
     "text": [
      "A\n",
      "B\n",
      "C\n",
      "D\n",
      "E\n",
      "F\n"
     ]
    },
    {
     "data": {
      "text/plain": [
       "{'A': None, 'B': 'A', 'C': 'A', 'D': 'B', 'E': 'C', 'F': 'D'}"
      ]
     },
     "execution_count": 24,
     "metadata": {},
     "output_type": "execute_result"
    }
   ],
   "source": [
    "parent = BFS(graph,\"A\")\n",
    "parent"
   ]
  },
  {
   "cell_type": "code",
   "execution_count": 27,
   "metadata": {
    "ExecuteTime": {
     "end_time": "2020-07-08T00:05:05.657956Z",
     "start_time": "2020-07-08T00:05:05.653690Z"
    },
    "scrolled": true
   },
   "outputs": [
    {
     "name": "stdout",
     "output_type": "stream",
     "text": [
      "E\n",
      "C\n",
      "D\n",
      "A\n",
      "B\n",
      "F\n",
      "E None\n",
      "C E\n",
      "D E\n",
      "A C\n",
      "B C\n",
      "F D\n"
     ]
    }
   ],
   "source": [
    "parent = BFS(graph,\"E\")\n",
    "for key in parent:\n",
    "    print(key,parent[key])"
   ]
  },
  {
   "cell_type": "code",
   "execution_count": 28,
   "metadata": {
    "ExecuteTime": {
     "end_time": "2020-07-08T00:06:39.294156Z",
     "start_time": "2020-07-08T00:06:39.290476Z"
    }
   },
   "outputs": [
    {
     "name": "stdout",
     "output_type": "stream",
     "text": [
      "B\n",
      "C\n",
      "E\n"
     ]
    }
   ],
   "source": [
    "v=\"B\"\n",
    "while v!=None:\n",
    "    print(v)\n",
    "    v=parent[v]"
   ]
  },
  {
   "cell_type": "code",
   "execution_count": null,
   "metadata": {},
   "outputs": [],
   "source": []
  },
  {
   "cell_type": "code",
   "execution_count": null,
   "metadata": {},
   "outputs": [],
   "source": []
  },
  {
   "cell_type": "code",
   "execution_count": null,
   "metadata": {},
   "outputs": [],
   "source": []
  },
  {
   "cell_type": "code",
   "execution_count": 12,
   "metadata": {
    "ExecuteTime": {
     "end_time": "2020-07-07T23:53:56.788942Z",
     "start_time": "2020-07-07T23:53:56.782437Z"
    }
   },
   "outputs": [],
   "source": [
    "def DFS(graph,start_node):\n",
    "    stack=[]\n",
    "    stack.append(start_node)\n",
    "    seen = set()\n",
    "    seen.add(start_node)\n",
    "    while (len(stack)>0):\n",
    "        vertex =stack.pop() #取最后一个节点\n",
    "        nodes = graph[vertex]\n",
    "        for node in nodes:\n",
    "            if node not in seen:\n",
    "                stack.append(node)\n",
    "                seen.add(node)\n",
    "        print(vertex)\n",
    "        "
   ]
  },
  {
   "cell_type": "code",
   "execution_count": 13,
   "metadata": {
    "ExecuteTime": {
     "end_time": "2020-07-07T23:54:07.403332Z",
     "start_time": "2020-07-07T23:54:07.398638Z"
    }
   },
   "outputs": [
    {
     "name": "stdout",
     "output_type": "stream",
     "text": [
      "A\n",
      "C\n",
      "E\n",
      "D\n",
      "F\n",
      "B\n"
     ]
    }
   ],
   "source": [
    "DFS(graph,\"A\")"
   ]
  },
  {
   "cell_type": "code",
   "execution_count": 14,
   "metadata": {
    "ExecuteTime": {
     "end_time": "2020-07-07T23:56:25.938875Z",
     "start_time": "2020-07-07T23:56:25.934594Z"
    }
   },
   "outputs": [
    {
     "name": "stdout",
     "output_type": "stream",
     "text": [
      "E\n",
      "D\n",
      "F\n",
      "B\n",
      "A\n",
      "C\n"
     ]
    }
   ],
   "source": [
    "DFS(graph,\"E\")"
   ]
  },
  {
   "cell_type": "code",
   "execution_count": null,
   "metadata": {},
   "outputs": [],
   "source": []
  }
 ],
 "metadata": {
  "kernelspec": {
   "display_name": "Python 3",
   "language": "python",
   "name": "python3"
  },
  "language_info": {
   "codemirror_mode": {
    "name": "ipython",
    "version": 3
   },
   "file_extension": ".py",
   "mimetype": "text/x-python",
   "name": "python",
   "nbconvert_exporter": "python",
   "pygments_lexer": "ipython3",
   "version": "3.7.6"
  },
  "varInspector": {
   "cols": {
    "lenName": 16,
    "lenType": 16,
    "lenVar": 40
   },
   "kernels_config": {
    "python": {
     "delete_cmd_postfix": "",
     "delete_cmd_prefix": "del ",
     "library": "var_list.py",
     "varRefreshCmd": "print(var_dic_list())"
    },
    "r": {
     "delete_cmd_postfix": ") ",
     "delete_cmd_prefix": "rm(",
     "library": "var_list.r",
     "varRefreshCmd": "cat(var_dic_list()) "
    }
   },
   "types_to_exclude": [
    "module",
    "function",
    "builtin_function_or_method",
    "instance",
    "_Feature"
   ],
   "window_display": false
  }
 },
 "nbformat": 4,
 "nbformat_minor": 4
}
