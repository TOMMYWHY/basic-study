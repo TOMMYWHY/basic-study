{
 "cells": [
  {
   "cell_type": "code",
   "execution_count": 1,
   "metadata": {
    "ExecuteTime": {
     "end_time": "2020-07-04T23:31:06.922445Z",
     "start_time": "2020-07-04T23:31:06.291563Z"
    }
   },
   "outputs": [],
   "source": [
    "import torch"
   ]
  },
  {
   "cell_type": "markdown",
   "metadata": {
    "ExecuteTime": {
     "end_time": "2020-07-04T23:37:24.143239Z",
     "start_time": "2020-07-04T23:37:24.140488Z"
    }
   },
   "source": [
    "# Convolutional Coculation"
   ]
  },
  {
   "cell_type": "code",
   "execution_count": 3,
   "metadata": {
    "ExecuteTime": {
     "end_time": "2020-07-04T23:32:33.103693Z",
     "start_time": "2020-07-04T23:32:33.098918Z"
    }
   },
   "outputs": [],
   "source": [
    "input = [3,4,6,5,7,\n",
    "        2,4,6,8,2,\n",
    "        1,6,7,8,4,\n",
    "        9,7,4,6,2,\n",
    "        3,7,5,4,1]\n",
    "\n",
    "kernel = [1,2,3,4,5,6,7,8,9]\n"
   ]
  },
  {
   "cell_type": "code",
   "execution_count": 5,
   "metadata": {
    "ExecuteTime": {
     "end_time": "2020-07-04T23:36:12.799562Z",
     "start_time": "2020-07-04T23:36:12.789834Z"
    }
   },
   "outputs": [],
   "source": [
    "input = torch.Tensor(input).view(1,1,5,5)\n",
    "conv_layer=torch.nn.Conv2d(in_channels=1,out_channels=1,kernel_size=3,padding=1,bias=False)\n",
    "kernel=torch.Tensor(kernel).view(1,1,3,3)\n",
    "conv_layer.weight.data=kernel.data\n",
    "\n",
    "output = conv_layer(input)\n"
   ]
  },
  {
   "cell_type": "code",
   "execution_count": 6,
   "metadata": {
    "ExecuteTime": {
     "end_time": "2020-07-04T23:36:12.965441Z",
     "start_time": "2020-07-04T23:36:12.952464Z"
    }
   },
   "outputs": [
    {
     "data": {
      "text/plain": [
       "tensor([[[[ 91., 168., 224., 215., 127.],\n",
       "          [114., 211., 295., 262., 149.],\n",
       "          [192., 259., 282., 214., 122.],\n",
       "          [194., 251., 253., 169.,  86.],\n",
       "          [ 96., 112., 110.,  68.,  31.]]]],\n",
       "       grad_fn=<MkldnnConvolutionBackward>)"
      ]
     },
     "execution_count": 6,
     "metadata": {},
     "output_type": "execute_result"
    }
   ],
   "source": [
    "output"
   ]
  },
  {
   "cell_type": "code",
   "execution_count": null,
   "metadata": {},
   "outputs": [],
   "source": []
  }
 ],
 "metadata": {
  "kernelspec": {
   "display_name": "Python 3",
   "language": "python",
   "name": "python3"
  },
  "language_info": {
   "codemirror_mode": {
    "name": "ipython",
    "version": 3
   },
   "file_extension": ".py",
   "mimetype": "text/x-python",
   "name": "python",
   "nbconvert_exporter": "python",
   "pygments_lexer": "ipython3",
   "version": "3.7.6"
  },
  "varInspector": {
   "cols": {
    "lenName": 16,
    "lenType": 16,
    "lenVar": 40
   },
   "kernels_config": {
    "python": {
     "delete_cmd_postfix": "",
     "delete_cmd_prefix": "del ",
     "library": "var_list.py",
     "varRefreshCmd": "print(var_dic_list())"
    },
    "r": {
     "delete_cmd_postfix": ") ",
     "delete_cmd_prefix": "rm(",
     "library": "var_list.r",
     "varRefreshCmd": "cat(var_dic_list()) "
    }
   },
   "position": {
    "height": "259px",
    "left": "995px",
    "right": "20px",
    "top": "120px",
    "width": "367px"
   },
   "types_to_exclude": [
    "module",
    "function",
    "builtin_function_or_method",
    "instance",
    "_Feature"
   ],
   "window_display": true
  }
 },
 "nbformat": 4,
 "nbformat_minor": 4
}
