{
 "cells": [
  {
   "cell_type": "code",
   "execution_count": 1,
   "metadata": {
    "ExecuteTime": {
     "end_time": "2020-07-04T22:36:39.771184Z",
     "start_time": "2020-07-04T22:36:37.148911Z"
    }
   },
   "outputs": [],
   "source": [
    "import numpy as np\n",
    "import pandas as pd\n",
    "import sklearn\n",
    "import torch\n",
    "\n",
    "from torch.utils.data import DataLoader\n",
    "from torchvision import transforms\n",
    "from torchvision import datasets\n",
    "import torch.nn.functional as F\n",
    "import torch.optim as optim"
   ]
  },
  {
   "cell_type": "code",
   "execution_count": 2,
   "metadata": {
    "ExecuteTime": {
     "end_time": "2020-07-04T22:36:52.839212Z",
     "start_time": "2020-07-04T22:36:52.717467Z"
    }
   },
   "outputs": [],
   "source": [
    "batch_size=64\n",
    "transform = transforms.Compose([\n",
    "    transforms.ToTensor(),\n",
    "    transforms.Normalize((0.1307,),(0.3081,))\n",
    "])\n",
    "train_dataset=datasets.MNIST('./data',train=True,download=True,transform=transform)\n",
    "test_dataset=datasets.MNIST('./data',train=False,download=True,transform=transform)\n",
    "\n",
    "train_loader=DataLoader(train_dataset,shuffle=True,batch_size=batch_size)\n",
    "test_loader=DataLoader(test_dataset,shuffle=False,batch_size=batch_size)"
   ]
  },
  {
   "cell_type": "code",
   "execution_count": 3,
   "metadata": {
    "ExecuteTime": {
     "end_time": "2020-07-04T22:36:57.807349Z",
     "start_time": "2020-07-04T22:36:57.798291Z"
    }
   },
   "outputs": [],
   "source": [
    "class CNN_net(torch.nn.Module):\n",
    "    def __init__(self):\n",
    "        super(CNN_net,self).__init__()#(batch,1,28,28)\n",
    "        self.conv1=torch.nn.Conv2d(1,10,kernel_size=5)#(batch,10，24，24)\n",
    "        self.pooling=torch.nn.MaxPool2d(2) #(batch,10,12,12)\n",
    "        self.conv2=torch.nn.Conv2d(10,20,kernel_size=5)#(batch,20,8,8)\n",
    "        self.pooling=torch.nn.MaxPool2d(2) #(batch,20,4,4)\n",
    "        self.fc=torch.nn.Linear(320,10) #(batch,320)\n",
    "            \n",
    "    def forward(self,x):\n",
    "        batch_size=x.size(0) #batch_size = 64\n",
    "#         print(\"batch_size\",batch_size)\n",
    "        x=F.relu(self.pooling(self.conv1(x)))#(batch,10,12,12)\n",
    "        x=F.relu(self.pooling(self.conv2(x)))#(batch,20,4,4)\n",
    "        x=x.view(batch_size,-1)#(batch,320)\n",
    "#         print(\"x\",x.size())\n",
    "\n",
    "        x=self.fc(x)\n",
    "        return x"
   ]
  },
  {
   "cell_type": "code",
   "execution_count": 4,
   "metadata": {
    "ExecuteTime": {
     "end_time": "2020-07-04T22:37:03.461473Z",
     "start_time": "2020-07-04T22:37:03.455244Z"
    }
   },
   "outputs": [],
   "source": [
    "model = CNN_net()\n",
    "criterion=torch.nn.CrossEntropyLoss()\n",
    "optimizer=optim.SGD(model.parameters(),lr=0.01,momentum=0.5) #momentum??\n",
    "\n",
    "# device = torch.device(\"cuda:0\" if torch.cuda.is_available()else\"cpu\")\n",
    "# model.to(device)"
   ]
  },
  {
   "cell_type": "code",
   "execution_count": 5,
   "metadata": {
    "ExecuteTime": {
     "end_time": "2020-07-04T22:37:08.765493Z",
     "start_time": "2020-07-04T22:37:08.758589Z"
    }
   },
   "outputs": [],
   "source": [
    "def train(epoch):\n",
    "    running_loss = 0.0\n",
    "    for batch_idx, data in enumerate (train_loader, 0):\n",
    "        inputs, target = data\n",
    "#        inputs, target = inputs.to(device), target.to(device) #gpu\n",
    "        optimizer.zero_grad()\n",
    "        # forward + backward + update\n",
    "        outputs = model(inputs)\n",
    "        loss = criterion(outputs, target)\n",
    "        loss.backward()\n",
    "        optimizer.step()\n",
    "                                      \n",
    "        running_loss += loss.item()\n",
    "        if batch_idx % 300 == 299:\n",
    "            print ('[%d, %5d] loss: %.3f' % (epoch + 1 , batch_idx + 1 , running_loss / 300))\n",
    "            running_loss = 0.0"
   ]
  },
  {
   "cell_type": "code",
   "execution_count": 6,
   "metadata": {
    "ExecuteTime": {
     "end_time": "2020-07-04T22:37:13.628965Z",
     "start_time": "2020-07-04T22:37:13.622866Z"
    }
   },
   "outputs": [],
   "source": [
    "def test():\n",
    "    correct = 0\n",
    "    total = 0\n",
    "    with torch.no_grad():\n",
    "        for data in test_loader:\n",
    "            images, labels = data\n",
    "            outputs = model(images)\n",
    "            _, predicted = torch.max(outputs.data, dim= 1)\n",
    "            total += labels.size( 0)\n",
    "            correct += (predicted == labels).sum().item()\n",
    "    print ('Accuracy on test set: %d %%' % (100 * correct /total))"
   ]
  },
  {
   "cell_type": "code",
   "execution_count": 7,
   "metadata": {
    "ExecuteTime": {
     "end_time": "2020-07-05T03:53:33.474068Z",
     "start_time": "2020-07-05T03:50:45.345374Z"
    }
   },
   "outputs": [
    {
     "name": "stdout",
     "output_type": "stream",
     "text": [
      "[1,   300] loss: 0.596\n",
      "[1,   600] loss: 0.208\n",
      "[1,   900] loss: 0.144\n",
      "Accuracy on test set: 96 %\n",
      "[2,   300] loss: 0.112\n",
      "[2,   600] loss: 0.099\n",
      "[2,   900] loss: 0.093\n",
      "Accuracy on test set: 97 %\n",
      "[3,   300] loss: 0.084\n",
      "[3,   600] loss: 0.070\n",
      "[3,   900] loss: 0.070\n",
      "Accuracy on test set: 98 %\n"
     ]
    }
   ],
   "source": [
    "for epoch in range (3):\n",
    "    train(epoch)\n",
    "    test()"
   ]
  },
  {
   "cell_type": "code",
   "execution_count": null,
   "metadata": {},
   "outputs": [],
   "source": []
  }
 ],
 "metadata": {
  "kernelspec": {
   "display_name": "Python 3",
   "language": "python",
   "name": "python3"
  },
  "language_info": {
   "codemirror_mode": {
    "name": "ipython",
    "version": 3
   },
   "file_extension": ".py",
   "mimetype": "text/x-python",
   "name": "python",
   "nbconvert_exporter": "python",
   "pygments_lexer": "ipython3",
   "version": "3.7.6"
  },
  "varInspector": {
   "cols": {
    "lenName": 16,
    "lenType": 16,
    "lenVar": 40
   },
   "kernels_config": {
    "python": {
     "delete_cmd_postfix": "",
     "delete_cmd_prefix": "del ",
     "library": "var_list.py",
     "varRefreshCmd": "print(var_dic_list())"
    },
    "r": {
     "delete_cmd_postfix": ") ",
     "delete_cmd_prefix": "rm(",
     "library": "var_list.r",
     "varRefreshCmd": "cat(var_dic_list()) "
    }
   },
   "types_to_exclude": [
    "module",
    "function",
    "builtin_function_or_method",
    "instance",
    "_Feature"
   ],
   "window_display": false
  }
 },
 "nbformat": 4,
 "nbformat_minor": 4
}
