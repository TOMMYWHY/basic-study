{
 "cells": [
  {
   "cell_type": "code",
   "execution_count": 1,
   "metadata": {
    "ExecuteTime": {
     "end_time": "2020-07-03T23:25:28.723064Z",
     "start_time": "2020-07-03T23:25:26.114841Z"
    },
    "persistent_id": "eb78d370-9aea-4d00-b29f-0efee6025763"
   },
   "outputs": [],
   "source": [
    "import torch\n",
    "import numpy as np\n",
    "from torchvision import datasets\n",
    "import torchvision.transforms as transforms\n",
    "from torch.utils.data.sampler import SubsetRandomSampler\n",
    "import torch.nn as nn\n",
    "import torch.nn.functional as F"
   ]
  },
  {
   "cell_type": "code",
   "execution_count": 2,
   "metadata": {
    "ExecuteTime": {
     "end_time": "2020-07-03T23:25:28.741159Z",
     "start_time": "2020-07-03T23:25:28.725818Z"
    },
    "persistent_id": "1aa920e0-db29-4dbd-a101-11f27cde937b"
   },
   "outputs": [],
   "source": [
    "x_data=torch.Tensor([[1.0],[2.0],[3.0]])\n",
    "y_data=torch.Tensor([[2.0],[4.0],[6.0]])"
   ]
  },
  {
   "cell_type": "code",
   "execution_count": 3,
   "metadata": {
    "ExecuteTime": {
     "end_time": "2020-07-03T23:53:51.444870Z",
     "start_time": "2020-07-03T23:53:51.434152Z"
    }
   },
   "outputs": [
    {
     "name": "stderr",
     "output_type": "stream",
     "text": [
      "/Users/Tommy/opt/anaconda3/lib/python3.7/site-packages/torch/nn/_reduction.py:43: UserWarning: size_average and reduce args will be deprecated, please use reduction='sum' instead.\n",
      "  warnings.warn(warning.format(ret))\n"
     ]
    }
   ],
   "source": [
    "class LinearModel(torch.nn.Module):\n",
    "    def __init__(self):\n",
    "        super(LinearModel,self).__init__()\n",
    "        self.linear = torch.nn.Linear(1,1,True) # input output\n",
    "        \n",
    "    def forward(self,x):\n",
    "        \"\"\"__call__ 中被调用  \"\"\"\n",
    "        y_pred=self.linear(x)\n",
    "        return y_pred\n",
    "    \n",
    "model = LinearModel()\n",
    "\n",
    "criterion =torch.nn.MSELoss(size_average=False)\n",
    "optimizer=torch.optim.SGD(model.parameters(),lr=0.01)"
   ]
  },
  {
   "cell_type": "code",
   "execution_count": null,
   "metadata": {},
   "outputs": [],
   "source": []
  },
  {
   "cell_type": "code",
   "execution_count": null,
   "metadata": {},
   "outputs": [],
   "source": []
  },
  {
   "cell_type": "code",
   "execution_count": 4,
   "metadata": {
    "ExecuteTime": {
     "end_time": "2020-07-04T00:05:19.505959Z",
     "start_time": "2020-07-04T00:05:19.385420Z"
    }
   },
   "outputs": [
    {
     "name": "stdout",
     "output_type": "stream",
     "text": [
      "0 tensor(12.8980, grad_fn=<MseLossBackward>)\n",
      "1 tensor(5.8055, grad_fn=<MseLossBackward>)\n",
      "2 tensor(2.6472, grad_fn=<MseLossBackward>)\n",
      "3 tensor(1.2403, grad_fn=<MseLossBackward>)\n",
      "4 tensor(0.6131, grad_fn=<MseLossBackward>)\n",
      "5 tensor(0.3330, grad_fn=<MseLossBackward>)\n",
      "6 tensor(0.2074, grad_fn=<MseLossBackward>)\n",
      "7 tensor(0.1507, grad_fn=<MseLossBackward>)\n",
      "8 tensor(0.1246, grad_fn=<MseLossBackward>)\n",
      "9 tensor(0.1122, grad_fn=<MseLossBackward>)\n",
      "10 tensor(0.1058, grad_fn=<MseLossBackward>)\n",
      "11 tensor(0.1022, grad_fn=<MseLossBackward>)\n",
      "12 tensor(0.0998, grad_fn=<MseLossBackward>)\n",
      "13 tensor(0.0979, grad_fn=<MseLossBackward>)\n",
      "14 tensor(0.0963, grad_fn=<MseLossBackward>)\n",
      "15 tensor(0.0949, grad_fn=<MseLossBackward>)\n",
      "16 tensor(0.0935, grad_fn=<MseLossBackward>)\n",
      "17 tensor(0.0921, grad_fn=<MseLossBackward>)\n",
      "18 tensor(0.0908, grad_fn=<MseLossBackward>)\n",
      "19 tensor(0.0895, grad_fn=<MseLossBackward>)\n",
      "20 tensor(0.0882, grad_fn=<MseLossBackward>)\n",
      "21 tensor(0.0869, grad_fn=<MseLossBackward>)\n",
      "22 tensor(0.0857, grad_fn=<MseLossBackward>)\n",
      "23 tensor(0.0844, grad_fn=<MseLossBackward>)\n",
      "24 tensor(0.0832, grad_fn=<MseLossBackward>)\n",
      "25 tensor(0.0820, grad_fn=<MseLossBackward>)\n",
      "26 tensor(0.0808, grad_fn=<MseLossBackward>)\n",
      "27 tensor(0.0797, grad_fn=<MseLossBackward>)\n",
      "28 tensor(0.0785, grad_fn=<MseLossBackward>)\n",
      "29 tensor(0.0774, grad_fn=<MseLossBackward>)\n",
      "30 tensor(0.0763, grad_fn=<MseLossBackward>)\n",
      "31 tensor(0.0752, grad_fn=<MseLossBackward>)\n",
      "32 tensor(0.0741, grad_fn=<MseLossBackward>)\n",
      "33 tensor(0.0730, grad_fn=<MseLossBackward>)\n",
      "34 tensor(0.0720, grad_fn=<MseLossBackward>)\n",
      "35 tensor(0.0710, grad_fn=<MseLossBackward>)\n",
      "36 tensor(0.0699, grad_fn=<MseLossBackward>)\n",
      "37 tensor(0.0689, grad_fn=<MseLossBackward>)\n",
      "38 tensor(0.0679, grad_fn=<MseLossBackward>)\n",
      "39 tensor(0.0670, grad_fn=<MseLossBackward>)\n",
      "40 tensor(0.0660, grad_fn=<MseLossBackward>)\n",
      "41 tensor(0.0651, grad_fn=<MseLossBackward>)\n",
      "42 tensor(0.0641, grad_fn=<MseLossBackward>)\n",
      "43 tensor(0.0632, grad_fn=<MseLossBackward>)\n",
      "44 tensor(0.0623, grad_fn=<MseLossBackward>)\n",
      "45 tensor(0.0614, grad_fn=<MseLossBackward>)\n",
      "46 tensor(0.0605, grad_fn=<MseLossBackward>)\n",
      "47 tensor(0.0596, grad_fn=<MseLossBackward>)\n",
      "48 tensor(0.0588, grad_fn=<MseLossBackward>)\n",
      "49 tensor(0.0579, grad_fn=<MseLossBackward>)\n",
      "50 tensor(0.0571, grad_fn=<MseLossBackward>)\n",
      "51 tensor(0.0563, grad_fn=<MseLossBackward>)\n",
      "52 tensor(0.0555, grad_fn=<MseLossBackward>)\n",
      "53 tensor(0.0547, grad_fn=<MseLossBackward>)\n",
      "54 tensor(0.0539, grad_fn=<MseLossBackward>)\n",
      "55 tensor(0.0531, grad_fn=<MseLossBackward>)\n",
      "56 tensor(0.0524, grad_fn=<MseLossBackward>)\n",
      "57 tensor(0.0516, grad_fn=<MseLossBackward>)\n",
      "58 tensor(0.0509, grad_fn=<MseLossBackward>)\n",
      "59 tensor(0.0501, grad_fn=<MseLossBackward>)\n",
      "60 tensor(0.0494, grad_fn=<MseLossBackward>)\n",
      "61 tensor(0.0487, grad_fn=<MseLossBackward>)\n",
      "62 tensor(0.0480, grad_fn=<MseLossBackward>)\n",
      "63 tensor(0.0473, grad_fn=<MseLossBackward>)\n",
      "64 tensor(0.0466, grad_fn=<MseLossBackward>)\n",
      "65 tensor(0.0460, grad_fn=<MseLossBackward>)\n",
      "66 tensor(0.0453, grad_fn=<MseLossBackward>)\n",
      "67 tensor(0.0447, grad_fn=<MseLossBackward>)\n",
      "68 tensor(0.0440, grad_fn=<MseLossBackward>)\n",
      "69 tensor(0.0434, grad_fn=<MseLossBackward>)\n",
      "70 tensor(0.0428, grad_fn=<MseLossBackward>)\n",
      "71 tensor(0.0421, grad_fn=<MseLossBackward>)\n",
      "72 tensor(0.0415, grad_fn=<MseLossBackward>)\n",
      "73 tensor(0.0409, grad_fn=<MseLossBackward>)\n",
      "74 tensor(0.0403, grad_fn=<MseLossBackward>)\n",
      "75 tensor(0.0398, grad_fn=<MseLossBackward>)\n",
      "76 tensor(0.0392, grad_fn=<MseLossBackward>)\n",
      "77 tensor(0.0386, grad_fn=<MseLossBackward>)\n",
      "78 tensor(0.0381, grad_fn=<MseLossBackward>)\n",
      "79 tensor(0.0375, grad_fn=<MseLossBackward>)\n",
      "80 tensor(0.0370, grad_fn=<MseLossBackward>)\n",
      "81 tensor(0.0365, grad_fn=<MseLossBackward>)\n",
      "82 tensor(0.0359, grad_fn=<MseLossBackward>)\n",
      "83 tensor(0.0354, grad_fn=<MseLossBackward>)\n",
      "84 tensor(0.0349, grad_fn=<MseLossBackward>)\n",
      "85 tensor(0.0344, grad_fn=<MseLossBackward>)\n",
      "86 tensor(0.0339, grad_fn=<MseLossBackward>)\n",
      "87 tensor(0.0334, grad_fn=<MseLossBackward>)\n",
      "88 tensor(0.0329, grad_fn=<MseLossBackward>)\n",
      "89 tensor(0.0325, grad_fn=<MseLossBackward>)\n",
      "90 tensor(0.0320, grad_fn=<MseLossBackward>)\n",
      "91 tensor(0.0315, grad_fn=<MseLossBackward>)\n",
      "92 tensor(0.0311, grad_fn=<MseLossBackward>)\n",
      "93 tensor(0.0306, grad_fn=<MseLossBackward>)\n",
      "94 tensor(0.0302, grad_fn=<MseLossBackward>)\n",
      "95 tensor(0.0298, grad_fn=<MseLossBackward>)\n",
      "96 tensor(0.0293, grad_fn=<MseLossBackward>)\n",
      "97 tensor(0.0289, grad_fn=<MseLossBackward>)\n",
      "98 tensor(0.0285, grad_fn=<MseLossBackward>)\n",
      "99 tensor(0.0281, grad_fn=<MseLossBackward>)\n",
      "w= 1.8884105682373047\n",
      "b= 0.2536689341068268\n"
     ]
    }
   ],
   "source": [
    "for epoch in range(100):\n",
    "    y_pred = model(x_data)\n",
    "    loss = criterion(y_pred, y_data)\n",
    "    print(epoch,loss)\n",
    "    \n",
    "    optimizer.zero_grad()\n",
    "    loss.backward()\n",
    "    optimizer.step()\n",
    "    \n",
    "print(\"w=\",model.linear.weight.item())\n",
    "print(\"b=\",model.linear.bias.item())\n"
   ]
  },
  {
   "cell_type": "code",
   "execution_count": null,
   "metadata": {},
   "outputs": [],
   "source": []
  },
  {
   "cell_type": "code",
   "execution_count": null,
   "metadata": {},
   "outputs": [],
   "source": []
  },
  {
   "cell_type": "markdown",
   "metadata": {},
   "source": [
    "### test"
   ]
  },
  {
   "cell_type": "code",
   "execution_count": null,
   "metadata": {},
   "outputs": [],
   "source": []
  },
  {
   "cell_type": "code",
   "execution_count": null,
   "metadata": {},
   "outputs": [],
   "source": []
  },
  {
   "cell_type": "code",
   "execution_count": null,
   "metadata": {},
   "outputs": [],
   "source": []
  },
  {
   "cell_type": "code",
   "execution_count": null,
   "metadata": {},
   "outputs": [],
   "source": []
  },
  {
   "cell_type": "code",
   "execution_count": null,
   "metadata": {},
   "outputs": [],
   "source": []
  },
  {
   "cell_type": "code",
   "execution_count": null,
   "metadata": {},
   "outputs": [],
   "source": []
  },
  {
   "cell_type": "code",
   "execution_count": null,
   "metadata": {},
   "outputs": [],
   "source": []
  },
  {
   "cell_type": "code",
   "execution_count": null,
   "metadata": {},
   "outputs": [],
   "source": []
  },
  {
   "cell_type": "code",
   "execution_count": null,
   "metadata": {},
   "outputs": [],
   "source": []
  },
  {
   "cell_type": "code",
   "execution_count": 2,
   "metadata": {
    "ExecuteTime": {
     "end_time": "2020-07-03T23:39:12.578706Z",
     "start_time": "2020-07-03T23:39:12.573550Z"
    }
   },
   "outputs": [
    {
     "name": "stdout",
     "output_type": "stream",
     "text": [
      "args1:1\n"
     ]
    }
   ],
   "source": [
    "class Foobar:\n",
    "    def __init__(self):\n",
    "        pass\n",
    "    \n",
    "    def __call__(self,*args,**kwargs):\n",
    "        print('args1:'+str(args[0]))\n",
    "        \n",
    "foobar = Foobar()\n",
    "foobar(1,2,3)\n",
    "     "
   ]
  },
  {
   "cell_type": "code",
   "execution_count": null,
   "metadata": {},
   "outputs": [],
   "source": []
  }
 ],
 "metadata": {
  "history": [],
  "kernelspec": {
   "display_name": "Python 3",
   "language": "python",
   "name": "python3"
  },
  "language_info": {
   "codemirror_mode": {
    "name": "ipython",
    "version": 3
   },
   "file_extension": ".py",
   "mimetype": "text/x-python",
   "name": "python",
   "nbconvert_exporter": "python",
   "pygments_lexer": "ipython3",
   "version": "3.7.6"
  },
  "toc": {
   "base_numbering": 1,
   "nav_menu": {},
   "number_sections": true,
   "sideBar": true,
   "skip_h1_title": false,
   "title_cell": "Table of Contents",
   "title_sidebar": "Contents",
   "toc_cell": false,
   "toc_position": {},
   "toc_section_display": true,
   "toc_window_display": false
  },
  "uuid": "52362b94-88e7-4594-9603-2668ed2eacd6"
 },
 "nbformat": 4,
 "nbformat_minor": 4
}
