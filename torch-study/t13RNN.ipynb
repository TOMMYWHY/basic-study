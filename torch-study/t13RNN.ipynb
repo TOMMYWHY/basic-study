{
 "cells": [
  {
   "cell_type": "code",
   "execution_count": 1,
   "metadata": {
    "ExecuteTime": {
     "end_time": "2020-07-05T04:32:34.052686Z",
     "start_time": "2020-07-05T04:32:32.011467Z"
    }
   },
   "outputs": [],
   "source": [
    "import numpy as np\n",
    "import pandas as pd\n",
    "import sklearn\n",
    "import torch\n",
    "\n",
    "from torch.utils.data import DataLoader\n",
    "from torchvision import transforms\n",
    "from torchvision import datasets\n",
    "import torch.nn.functional as F\n",
    "import torch.nn as nn\n",
    "import torch.optim as optim"
   ]
  },
  {
   "cell_type": "code",
   "execution_count": null,
   "metadata": {},
   "outputs": [],
   "source": []
  },
  {
   "cell_type": "code",
   "execution_count": null,
   "metadata": {},
   "outputs": [],
   "source": []
  },
  {
   "cell_type": "code",
   "execution_count": 2,
   "metadata": {
    "ExecuteTime": {
     "end_time": "2020-07-05T05:36:06.752904Z",
     "start_time": "2020-07-05T05:36:06.743866Z"
    }
   },
   "outputs": [],
   "source": [
    "batch_size=1\n",
    "seq_len=3\n",
    "input_size=4\n",
    "hidden_size=2"
   ]
  },
  {
   "cell_type": "code",
   "execution_count": 6,
   "metadata": {
    "ExecuteTime": {
     "end_time": "2020-07-05T05:40:00.966056Z",
     "start_time": "2020-07-05T05:40:00.952300Z"
    }
   },
   "outputs": [
    {
     "name": "stdout",
     "output_type": "stream",
     "text": [
      "==================== 0 ====================\n",
      "input size: torch.Size([1, 4])\n",
      "outputs size: torch.Size([1, 2])\n",
      "tensor([[ 0.0964, -0.0458]], grad_fn=<TanhBackward>)\n",
      "==================== 1 ====================\n",
      "input size: torch.Size([1, 4])\n",
      "outputs size: torch.Size([1, 2])\n",
      "tensor([[-0.7504, -0.8917]], grad_fn=<TanhBackward>)\n",
      "==================== 2 ====================\n",
      "input size: torch.Size([1, 4])\n",
      "outputs size: torch.Size([1, 2])\n",
      "tensor([[-0.0356, -0.7497]], grad_fn=<TanhBackward>)\n"
     ]
    }
   ],
   "source": [
    "cell = torch.nn.RNNCell(input_size=input_size,hidden_size=hidden_size)\n",
    "dataset=torch.randn(seq_len,batch_size,input_size)\n",
    "hidden=torch.zeros(batch_size,hidden_size)\n",
    "\n",
    "for idx, input  in enumerate(dataset):\n",
    "    print('='*20,idx,'='*20)\n",
    "    print('input size:',input.shape)\n",
    "    hidden=cell(input,hidden)\n",
    "    print('outputs size:',hidden.shape)\n",
    "    print(hidden)"
   ]
  },
  {
   "cell_type": "code",
   "execution_count": null,
   "metadata": {},
   "outputs": [],
   "source": []
  },
  {
   "cell_type": "code",
   "execution_count": null,
   "metadata": {},
   "outputs": [],
   "source": []
  },
  {
   "cell_type": "code",
   "execution_count": null,
   "metadata": {},
   "outputs": [],
   "source": []
  }
 ],
 "metadata": {
  "kernelspec": {
   "display_name": "Python 3",
   "language": "python",
   "name": "python3"
  },
  "language_info": {
   "codemirror_mode": {
    "name": "ipython",
    "version": 3
   },
   "file_extension": ".py",
   "mimetype": "text/x-python",
   "name": "python",
   "nbconvert_exporter": "python",
   "pygments_lexer": "ipython3",
   "version": "3.7.6"
  },
  "varInspector": {
   "cols": {
    "lenName": 16,
    "lenType": 16,
    "lenVar": 40
   },
   "kernels_config": {
    "python": {
     "delete_cmd_postfix": "",
     "delete_cmd_prefix": "del ",
     "library": "var_list.py",
     "varRefreshCmd": "print(var_dic_list())"
    },
    "r": {
     "delete_cmd_postfix": ") ",
     "delete_cmd_prefix": "rm(",
     "library": "var_list.r",
     "varRefreshCmd": "cat(var_dic_list()) "
    }
   },
   "types_to_exclude": [
    "module",
    "function",
    "builtin_function_or_method",
    "instance",
    "_Feature"
   ],
   "window_display": false
  }
 },
 "nbformat": 4,
 "nbformat_minor": 4
}
