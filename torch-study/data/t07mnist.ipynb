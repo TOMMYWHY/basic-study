{
 "cells": [
  {
   "cell_type": "code",
   "execution_count": 19,
   "metadata": {
    "ExecuteTime": {
     "end_time": "2020-07-04T11:49:27.315640Z",
     "start_time": "2020-07-04T11:49:27.311276Z"
    }
   },
   "outputs": [],
   "source": [
    "import numpy as np\n",
    "import pandas as pd\n",
    "import sklearn\n",
    "import torch\n",
    "from torchvision import transforms\n",
    "from torchvision import datasets\n",
    "from torch.utils.data import Dataset\n",
    "from torch.utils.data import DataLoader\n",
    "import torch.nn.functional as F\n",
    "import torch.optim as optim"
   ]
  },
  {
   "cell_type": "code",
   "execution_count": 28,
   "metadata": {
    "ExecuteTime": {
     "end_time": "2020-07-04T11:52:35.115919Z",
     "start_time": "2020-07-04T11:52:34.994792Z"
    }
   },
   "outputs": [],
   "source": [
    "batch_size=64\n",
    "#PIL to Tensor\n",
    "transform = transforms.Compose([\n",
    "    transforms.ToTensor(),\n",
    "    transforms.Normalize((0.1307,),(0.3081,))\n",
    "])\n",
    "\n",
    "train_dataset = datasets.MNIST(\"./data\",train=True,transform=transform,download=True)\n",
    "train_loader=DataLoader(dataset=train_dataset,batch_size=batch_size,shuffle=True)\n",
    "\n",
    "test_dataset = datasets.MNIST(\"./data\",train=False,transform=transform,download=True)\n",
    "test_loader=DataLoader(dataset=test_dataset,batch_size=batch_size,shuffle=False)"
   ]
  },
  {
   "cell_type": "code",
   "execution_count": 27,
   "metadata": {
    "ExecuteTime": {
     "end_time": "2020-07-04T11:51:39.267793Z",
     "start_time": "2020-07-04T11:51:39.258751Z"
    }
   },
   "outputs": [],
   "source": []
  },
  {
   "cell_type": "code",
   "execution_count": 29,
   "metadata": {
    "ExecuteTime": {
     "end_time": "2020-07-04T11:52:59.112448Z",
     "start_time": "2020-07-04T11:52:59.096934Z"
    }
   },
   "outputs": [],
   "source": [
    "class Model(torch.nn.Module):\n",
    "    def __init__(self):\n",
    "        super(Model,self).__init__()\n",
    "        \n",
    "        self.l1 = torch.nn.Linear(784,512,True) # input output\n",
    "        self.l2 = torch.nn.Linear(512,256,True) # input output\n",
    "        self.l3 = torch.nn.Linear(256,128,True) # input output\n",
    "        self.l4 = torch.nn.Linear(128,64,True) # input output\n",
    "        self.l5 = torch.nn.Linear(64,10,True) # input output\n",
    "#         self.sigmoid=torch.nn.Sigmoid()\n",
    "        \n",
    "        \n",
    "    def forward(self,x):\n",
    "        \"\"\"__call__ 中被调用  \"\"\"\n",
    "        x=x.view(-1,784)\n",
    "        x=F.relu(self.l1(x))\n",
    "        x=F.relu(self.l2(x))\n",
    "        x=F.relu(self.l3(x))\n",
    "        x=F.relu(self.l4(x))\n",
    "        return self.l5(x)\n",
    "    \n",
    "model = Model()\n",
    "\n",
    "criterion =torch.nn.CrossEntropyLoss() \n",
    "optimizer=torch.optim.SGD(model.parameters(),lr=0.01,momentum=0.5)"
   ]
  },
  {
   "cell_type": "code",
   "execution_count": 30,
   "metadata": {
    "ExecuteTime": {
     "end_time": "2020-07-04T11:52:59.237389Z",
     "start_time": "2020-07-04T11:52:59.231211Z"
    }
   },
   "outputs": [],
   "source": [
    "def train(epoch):\n",
    "    running_loss=0.0\n",
    "    for batch_idx,data in enumerate(train_loader,0):\n",
    "        inputs,labels=data\n",
    "        optimizer.zero_grad()\n",
    "        outputs=model(inputs)\n",
    "        loss=criterion(outputs,labels)\n",
    "        loss.backward()\n",
    "        optimizer.step()\n",
    "        \n",
    "        running_loss +=  loss.item()\n",
    "        if batch_idx % 300== 299:\n",
    "            print('[%d,%5d] loss: %.3f' % (epoch+1,batch_idx+1,running_loss/300))\n",
    "            running_loss=0.0"
   ]
  },
  {
   "cell_type": "code",
   "execution_count": 31,
   "metadata": {
    "ExecuteTime": {
     "end_time": "2020-07-04T11:52:59.380842Z",
     "start_time": "2020-07-04T11:52:59.375262Z"
    }
   },
   "outputs": [],
   "source": [
    "def test():\n",
    "    correct=0\n",
    "    total=0\n",
    "    with torch.no_grad():\n",
    "        for data in test_loader:\n",
    "            images,labels= data\n",
    "            outputs=model(images)\n",
    "            _,predicted=torch.max(outputs.data,dim=1)\n",
    "            total += labels.size(0)\n",
    "            correct+=(predicted == labels).sum().item()\n",
    "    print(\"accuracy :\", (100*correct)/total)"
   ]
  },
  {
   "cell_type": "code",
   "execution_count": 32,
   "metadata": {
    "ExecuteTime": {
     "end_time": "2020-07-04T11:57:52.140859Z",
     "start_time": "2020-07-04T11:52:59.545212Z"
    }
   },
   "outputs": [
    {
     "name": "stdout",
     "output_type": "stream",
     "text": [
      "[1,  300] loss: 2.198\n",
      "[1,  600] loss: 0.878\n",
      "[1,  900] loss: 0.421\n",
      "accuracy : 90.17\n",
      "[2,  300] loss: 0.316\n",
      "[2,  600] loss: 0.274\n",
      "[2,  900] loss: 0.233\n",
      "accuracy : 94.1\n",
      "[3,  300] loss: 0.187\n",
      "[3,  600] loss: 0.167\n",
      "[3,  900] loss: 0.160\n",
      "accuracy : 95.84\n",
      "[4,  300] loss: 0.136\n",
      "[4,  600] loss: 0.121\n",
      "[4,  900] loss: 0.115\n",
      "accuracy : 96.01\n",
      "[5,  300] loss: 0.099\n",
      "[5,  600] loss: 0.093\n",
      "[5,  900] loss: 0.093\n",
      "accuracy : 97.02\n",
      "[6,  300] loss: 0.079\n",
      "[6,  600] loss: 0.075\n",
      "[6,  900] loss: 0.075\n",
      "accuracy : 97.36\n",
      "[7,  300] loss: 0.060\n",
      "[7,  600] loss: 0.061\n",
      "[7,  900] loss: 0.063\n",
      "accuracy : 97.56\n",
      "[8,  300] loss: 0.048\n",
      "[8,  600] loss: 0.052\n",
      "[8,  900] loss: 0.052\n",
      "accuracy : 97.73\n",
      "[9,  300] loss: 0.041\n",
      "[9,  600] loss: 0.042\n",
      "[9,  900] loss: 0.042\n",
      "accuracy : 97.64\n",
      "[10,  300] loss: 0.035\n",
      "[10,  600] loss: 0.032\n",
      "[10,  900] loss: 0.035\n",
      "accuracy : 97.71\n"
     ]
    }
   ],
   "source": [
    "for epoch in range(10):\n",
    "    train(epoch)\n",
    "    test()"
   ]
  },
  {
   "cell_type": "code",
   "execution_count": null,
   "metadata": {},
   "outputs": [],
   "source": []
  },
  {
   "cell_type": "code",
   "execution_count": null,
   "metadata": {},
   "outputs": [],
   "source": []
  },
  {
   "cell_type": "code",
   "execution_count": null,
   "metadata": {},
   "outputs": [],
   "source": []
  }
 ],
 "metadata": {
  "kernelspec": {
   "display_name": "Python 3",
   "language": "python",
   "name": "python3"
  },
  "language_info": {
   "codemirror_mode": {
    "name": "ipython",
    "version": 3
   },
   "file_extension": ".py",
   "mimetype": "text/x-python",
   "name": "python",
   "nbconvert_exporter": "python",
   "pygments_lexer": "ipython3",
   "version": "3.7.6"
  },
  "varInspector": {
   "cols": {
    "lenName": 16,
    "lenType": 16,
    "lenVar": 40
   },
   "kernels_config": {
    "python": {
     "delete_cmd_postfix": "",
     "delete_cmd_prefix": "del ",
     "library": "var_list.py",
     "varRefreshCmd": "print(var_dic_list())"
    },
    "r": {
     "delete_cmd_postfix": ") ",
     "delete_cmd_prefix": "rm(",
     "library": "var_list.r",
     "varRefreshCmd": "cat(var_dic_list()) "
    }
   },
   "types_to_exclude": [
    "module",
    "function",
    "builtin_function_or_method",
    "instance",
    "_Feature"
   ],
   "window_display": false
  }
 },
 "nbformat": 4,
 "nbformat_minor": 4
}
