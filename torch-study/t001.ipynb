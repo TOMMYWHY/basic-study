{
 "cells": [
  {
   "cell_type": "code",
   "execution_count": 18,
   "metadata": {},
   "outputs": [],
   "source": [
    "import torch\n",
    "import torch.nn as nn\n",
    "import numpy as np"
   ]
  },
  {
   "cell_type": "code",
   "execution_count": 19,
   "metadata": {},
   "outputs": [
    {
     "output_type": "execute_result",
     "data": {
      "text/plain": "'1.5.1'"
     },
     "metadata": {},
     "execution_count": 19
    }
   ],
   "source": [
    "torch.__version__"
   ]
  },
  {
   "cell_type": "code",
   "execution_count": 20,
   "metadata": {},
   "outputs": [
    {
     "output_type": "execute_result",
     "data": {
      "text/plain": "(11, 1)"
     },
     "metadata": {},
     "execution_count": 20
    }
   ],
   "source": [
    "x_values=[i for i in range(11)]\n",
    "x_train=np.array(x_values,dtype=np.float32)\n",
    "x_train=x_train.reshape(-1,1)\n",
    "x_train.shape"
   ]
  },
  {
   "cell_type": "code",
   "execution_count": 21,
   "metadata": {},
   "outputs": [
    {
     "output_type": "execute_result",
     "data": {
      "text/plain": "array([[ 0.],\n       [ 1.],\n       [ 2.],\n       [ 3.],\n       [ 4.],\n       [ 5.],\n       [ 6.],\n       [ 7.],\n       [ 8.],\n       [ 9.],\n       [10.]], dtype=float32)"
     },
     "metadata": {},
     "execution_count": 21
    }
   ],
   "source": [
    "x_train"
   ]
  },
  {
   "cell_type": "code",
   "execution_count": 22,
   "metadata": {},
   "outputs": [
    {
     "output_type": "execute_result",
     "data": {
      "text/plain": "(11, 1)"
     },
     "metadata": {},
     "execution_count": 22
    }
   ],
   "source": [
    "y_values=[2*i+1 for i in x_values]\n",
    "y_train=np.array(y_values,dtype=np.float32)\n",
    "y_train=y_train.reshape(-1,1)\n",
    "y_train.shape"
   ]
  },
  {
   "cell_type": "code",
   "execution_count": 23,
   "metadata": {},
   "outputs": [
    {
     "output_type": "execute_result",
     "data": {
      "text/plain": "array([[ 1.],\n       [ 3.],\n       [ 5.],\n       [ 7.],\n       [ 9.],\n       [11.],\n       [13.],\n       [15.],\n       [17.],\n       [19.],\n       [21.]], dtype=float32)"
     },
     "metadata": {},
     "execution_count": 23
    }
   ],
   "source": [
    "y_train"
   ]
  },
  {
   "cell_type": "code",
   "execution_count": 24,
   "metadata": {},
   "outputs": [],
   "source": [
    "class LinearRegressionModel(nn.Module):\n",
    "    def __init__(self,input_dim,output_dim):\n",
    "        super(LinearRegressionModel,self).__init__()\n",
    "        self.linear=nn.Linear(input_dim,output_dim)\n",
    "        \n",
    "    def forward(self,x):\n",
    "        out=self.linear(x)\n",
    "        return out"
   ]
  },
  {
   "cell_type": "code",
   "execution_count": 25,
   "metadata": {},
   "outputs": [],
   "source": [
    "input_dim=1\n",
    "output_dim =1\n",
    "\n",
    "model =LinearRegressionModel(input_dim,output_dim)"
   ]
  },
  {
   "cell_type": "code",
   "execution_count": 26,
   "metadata": {},
   "outputs": [
    {
     "output_type": "execute_result",
     "data": {
      "text/plain": "LinearRegressionModel(\n  (linear): Linear(in_features=1, out_features=1, bias=True)\n)"
     },
     "metadata": {},
     "execution_count": 26
    }
   ],
   "source": [
    "model"
   ]
  },
  {
   "cell_type": "code",
   "execution_count": 27,
   "metadata": {},
   "outputs": [],
   "source": [
    "epochs=1000\n",
    "learning_rate=0.01\n",
    "optimizer=torch.optim.SGD(model.parameters(),lr=learning_rate)\n",
    "criterion=nn.MSELoss()"
   ]
  },
  {
   "cell_type": "markdown",
   "metadata": {},
   "source": [
    "### train"
   ]
  },
  {
   "cell_type": "code",
   "execution_count": 28,
   "metadata": {},
   "outputs": [],
   "source": [
    "for epoch in range(epochs):\n",
    "    epoch+=1\n",
    "    inputs=torch.from_numpy(x_train)\n",
    "    labels=torch.from_numpy(y_train)"
   ]
  },
  {
   "cell_type": "code",
   "execution_count": null,
   "metadata": {},
   "outputs": [],
   "source": []
  },
  {
   "cell_type": "code",
   "execution_count": null,
   "metadata": {},
   "outputs": [],
   "source": []
  }
 ],
 "metadata": {
  "kernelspec": {
   "display_name": "Python 3.6.10 64-bit ('python36': conda)",
   "language": "python",
   "name": "python361064bitpython36conda3fbbdad0e7094e8da5a2f81a42cd6956"
  },
  "language_info": {
   "codemirror_mode": {
    "name": "ipython",
    "version": 3
   },
   "file_extension": ".py",
   "mimetype": "text/x-python",
   "name": "python",
   "nbconvert_exporter": "python",
   "pygments_lexer": "ipython3",
   "version": "3.6.10-final"
  }
 },
 "nbformat": 4,
 "nbformat_minor": 4
}