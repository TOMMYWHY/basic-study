{
 "cells": [
  {
   "cell_type": "code",
   "execution_count": 3,
   "metadata": {
    "ExecuteTime": {
     "end_time": "2020-07-04T21:21:58.612624Z",
     "start_time": "2020-07-04T21:21:58.174159Z"
    }
   },
   "outputs": [],
   "source": [
    "import numpy as np\n",
    "import pandas as pd\n",
    "import sklearn\n",
    "import torch\n",
    "\n",
    "from torch.utils.data import DataLoader\n",
    "from torchvision import transforms\n",
    "from torchvision import datasets\n",
    "import torch.nn.functional as F\n",
    "import torch.optim as optim"
   ]
  },
  {
   "cell_type": "code",
   "execution_count": 6,
   "metadata": {
    "ExecuteTime": {
     "end_time": "2020-07-04T21:25:37.006378Z",
     "start_time": "2020-07-04T21:25:36.886134Z"
    }
   },
   "outputs": [],
   "source": [
    "batch_size=64\n",
    "transform = transforms.Compose([\n",
    "    transforms.ToTensor(),\n",
    "    transforms.Normalize((0.1307,),(0.3081,))\n",
    "])\n",
    "train_dataset=datasets.MNIST('./data',train=True,download=True,transform=transform)\n",
    "test_dataset=datasets.MNIST('./data',train=False,download=True,transform=transform)\n",
    "\n",
    "train_loader=DataLoader(train_dataset,shuffle=True,batch_size=batch_size)\n",
    "test_loader=DataLoader(test_dataset,shuffle=False,batch_size=batch_size)"
   ]
  },
  {
   "cell_type": "code",
   "execution_count": 9,
   "metadata": {
    "ExecuteTime": {
     "end_time": "2020-07-04T21:29:57.032424Z",
     "start_time": "2020-07-04T21:29:57.024367Z"
    }
   },
   "outputs": [],
   "source": [
    "class ANN_net(torch.nn.Module):\n",
    "    def __init__(self):\n",
    "        super(ANN_net,self).__init__()\n",
    "        self.L1=torch.nn.Linear(784,512)\n",
    "        self.L2=torch.nn.Linear(512,256)\n",
    "        self.L3=torch.nn.Linear(256,128)\n",
    "        self.L4=torch.nn.Linear(128,64)\n",
    "        self.L5=torch.nn.Linear(64,10)\n",
    "            \n",
    "    def forward(self,x):\n",
    "        x=x.view(-1,28*28)\n",
    "        x=F.relu(self.L1(x))\n",
    "        x=F.relu(self.L2(x))\n",
    "        x=F.relu(self.L3(x))\n",
    "        x=F.relu(self.L4(x))\n",
    "        return self.L5(x)"
   ]
  },
  {
   "cell_type": "code",
   "execution_count": 10,
   "metadata": {
    "ExecuteTime": {
     "end_time": "2020-07-04T21:31:09.968111Z",
     "start_time": "2020-07-04T21:31:09.952392Z"
    }
   },
   "outputs": [],
   "source": [
    "model = ANN_net()\n",
    "criterion=torch.nn.CrossEntropyLoss()\n",
    "optimizer=optim.SGD(model.parameters(),lr=0.01,momentum=0.5) #momentum??"
   ]
  },
  {
   "cell_type": "code",
   "execution_count": 16,
   "metadata": {
    "ExecuteTime": {
     "end_time": "2020-07-04T21:32:40.982338Z",
     "start_time": "2020-07-04T21:32:40.973080Z"
    }
   },
   "outputs": [],
   "source": [
    "def train(epoch):\n",
    "    running_loss = 0.0\n",
    "    for batch_idx, data in enumerate (train_loader, 0):\n",
    "        inputs, target = data\n",
    "        optimizer.zero_grad()\n",
    "        # forward + backward + update\n",
    "        outputs = model(inputs)\n",
    "        loss = criterion(outputs, target)\n",
    "        loss.backward()\n",
    "        optimizer.step()\n",
    "                                      \n",
    "        running_loss += loss.item()\n",
    "        if batch_idx % 300 == 299:\n",
    "            print ('[%d, %5d] loss: %.3f' % (epoch + 1 , batch_idx + 1 , running_loss / 300))\n",
    "            running_loss = 0.0"
   ]
  },
  {
   "cell_type": "code",
   "execution_count": 20,
   "metadata": {
    "ExecuteTime": {
     "end_time": "2020-07-04T21:36:14.742186Z",
     "start_time": "2020-07-04T21:36:14.736240Z"
    }
   },
   "outputs": [],
   "source": [
    "def test():\n",
    "    correct = 0\n",
    "    total = 0\n",
    "    with torch.no_grad():\n",
    "        for data in test_loader:\n",
    "            images, labels = data\n",
    "            outputs = model(images)\n",
    "            _, predicted = torch.max(outputs.data, dim= 1)\n",
    "            total += labels.size( 0)\n",
    "            correct += (predicted == labels).sum().item()\n",
    "    print ('Accuracy on test set: %d %%' % (100 * correct /total))"
   ]
  },
  {
   "cell_type": "code",
   "execution_count": null,
   "metadata": {
    "ExecuteTime": {
     "start_time": "2020-07-04T21:36:18.932Z"
    }
   },
   "outputs": [
    {
     "name": "stdout",
     "output_type": "stream",
     "text": [
      "[1,   300] loss: 0.325\n"
     ]
    }
   ],
   "source": [
    "for epoch in range (10):\n",
    "    train(epoch)\n",
    "    test()"
   ]
  },
  {
   "cell_type": "code",
   "execution_count": null,
   "metadata": {},
   "outputs": [],
   "source": []
  }
 ],
 "metadata": {
  "kernelspec": {
   "display_name": "Python 3",
   "language": "python",
   "name": "python3"
  },
  "language_info": {
   "codemirror_mode": {
    "name": "ipython",
    "version": 3
   },
   "file_extension": ".py",
   "mimetype": "text/x-python",
   "name": "python",
   "nbconvert_exporter": "python",
   "pygments_lexer": "ipython3",
   "version": "3.7.6"
  },
  "varInspector": {
   "cols": {
    "lenName": 16,
    "lenType": 16,
    "lenVar": 40
   },
   "kernels_config": {
    "python": {
     "delete_cmd_postfix": "",
     "delete_cmd_prefix": "del ",
     "library": "var_list.py",
     "varRefreshCmd": "print(var_dic_list())"
    },
    "r": {
     "delete_cmd_postfix": ") ",
     "delete_cmd_prefix": "rm(",
     "library": "var_list.r",
     "varRefreshCmd": "cat(var_dic_list()) "
    }
   },
   "types_to_exclude": [
    "module",
    "function",
    "builtin_function_or_method",
    "instance",
    "_Feature"
   ],
   "window_display": false
  }
 },
 "nbformat": 4,
 "nbformat_minor": 4
}
