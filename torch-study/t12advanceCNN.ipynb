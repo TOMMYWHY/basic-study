{
 "cells": [
  {
   "cell_type": "markdown",
   "metadata": {},
   "source": [
    "# Inception Module"
   ]
  },
  {
   "cell_type": "code",
   "execution_count": 1,
   "metadata": {
    "ExecuteTime": {
     "end_time": "2020-07-05T03:51:55.989307Z",
     "start_time": "2020-07-05T03:51:52.271038Z"
    }
   },
   "outputs": [],
   "source": [
    "import numpy as np\n",
    "import pandas as pd\n",
    "import sklearn\n",
    "import torch\n",
    "\n",
    "from torch.utils.data import DataLoader\n",
    "from torchvision import transforms\n",
    "from torchvision import datasets\n",
    "import torch.nn.functional as F\n",
    "import torch.nn as nn\n",
    "import torch.optim as optim"
   ]
  },
  {
   "cell_type": "code",
   "execution_count": 2,
   "metadata": {
    "ExecuteTime": {
     "end_time": "2020-07-05T03:51:56.123260Z",
     "start_time": "2020-07-05T03:51:55.993902Z"
    }
   },
   "outputs": [],
   "source": [
    "batch_size=64\n",
    "transform = transforms.Compose([\n",
    "    transforms.ToTensor(),\n",
    "    transforms.Normalize((0.1307,),(0.3081,))\n",
    "])\n",
    "train_dataset=datasets.MNIST('./data',train=True,download=True,transform=transform)\n",
    "test_dataset=datasets.MNIST('./data',train=False,download=True,transform=transform)\n",
    "\n",
    "train_loader=DataLoader(train_dataset,shuffle=True,batch_size=batch_size)\n",
    "test_loader=DataLoader(test_dataset,shuffle=False,batch_size=batch_size)"
   ]
  },
  {
   "cell_type": "code",
   "execution_count": 12,
   "metadata": {
    "ExecuteTime": {
     "end_time": "2020-07-05T04:01:52.642288Z",
     "start_time": "2020-07-05T04:01:52.629196Z"
    }
   },
   "outputs": [],
   "source": [
    "class InceptionA(nn.Module):\n",
    "    def __init__(self,in_channels):\n",
    "        super(InceptionA,self).__init__()\n",
    "        self.branch1x1=nn.Conv2d(in_channels,16,kernel_size=1)\n",
    "        \n",
    "        self.branch5x5_1=nn.Conv2d(in_channels,16,kernel_size=1)\n",
    "        self.branch5x5_2=nn.Conv2d(16,24,kernel_size=5,padding=2)\n",
    "        \n",
    "        self.branch3x3_1=nn.Conv2d(in_channels,16,kernel_size=1)\n",
    "        self.branch3x3_2=nn.Conv2d(16,24,kernel_size=3,padding=1)\n",
    "        self.branch3x3_3=nn.Conv2d(24,24,kernel_size=3,padding=1)\n",
    "        \n",
    "        self.branch_pool=nn.Conv2d(in_channels,24,kernel_size=1)\n",
    "        \n",
    "    def forward(self,x):\n",
    "        branch1x1=self.branch1x1(x)\n",
    "        \n",
    "        branch5x5=self.branch5x5_1(x)\n",
    "        branch5x5=self.branch5x5_2(branch5x5)\n",
    "        \n",
    "        branch3x3=self.branch3x3_1(x)\n",
    "        branch3x3=self.branch3x3_2(branch3x3)\n",
    "        branch3x3=self.branch3x3_3(branch3x3)\n",
    "        \n",
    "        branch_pool=F.avg_pool2d(x,kernel_size=3,stride=1,padding=1)\n",
    "        branch_pool=self.branch_pool(branch_pool)\n",
    "        \n",
    "        outputs=[branch1x1,branch5x5,branch3x3,branch_pool]\n",
    "        return torch.cat(outputs,dim=1)\n",
    "        \n",
    "        "
   ]
  },
  {
   "cell_type": "code",
   "execution_count": 21,
   "metadata": {
    "ExecuteTime": {
     "end_time": "2020-07-05T04:05:50.081467Z",
     "start_time": "2020-07-05T04:05:50.072057Z"
    }
   },
   "outputs": [],
   "source": [
    "class Net(nn.Module):\n",
    "    def __init__(self):\n",
    "        super(Net,self).__init__()\n",
    "        self.conv1=nn.Conv2d(1,10,kernel_size=5)\n",
    "        self.conv2=nn.Conv2d(88,20,kernel_size=5)\n",
    "        self.incep1=InceptionA(in_channels=10)\n",
    "        self.incep2=InceptionA(in_channels=20)\n",
    "\n",
    "        self.mp=nn.MaxPool2d(2)\n",
    "        self.fc=nn.Linear(1408,10)\n",
    "        \n",
    "    def forward(self,x):\n",
    "        in_size=x.size(0)\n",
    "        x=F.relu(self.mp(self.conv1(x)))\n",
    "        x=self.incep1(x)\n",
    "        x=F.relu(self.mp(self.conv2(x)))\n",
    "        x=self.incep2(x)\n",
    "        x=x.view(in_size,-1)\n",
    "        x=self.fc(x)\n",
    "        return x\n",
    "        \n",
    "    \n",
    "        \n"
   ]
  },
  {
   "cell_type": "code",
   "execution_count": 22,
   "metadata": {
    "ExecuteTime": {
     "end_time": "2020-07-05T04:05:50.443680Z",
     "start_time": "2020-07-05T04:05:50.433544Z"
    }
   },
   "outputs": [],
   "source": [
    "model = Net()\n",
    "criterion=torch.nn.CrossEntropyLoss()\n",
    "optimizer=optim.SGD(model.parameters(),lr=0.01,momentum=0.5) #momentum??\n",
    "\n",
    "# device = torch.device(\"cuda:0\" if torch.cuda.is_available()else\"cpu\")\n",
    "# model.to(device)"
   ]
  },
  {
   "cell_type": "code",
   "execution_count": 26,
   "metadata": {
    "ExecuteTime": {
     "end_time": "2020-07-05T04:06:12.103329Z",
     "start_time": "2020-07-05T04:06:12.097208Z"
    }
   },
   "outputs": [],
   "source": [
    "def train(epoch):\n",
    "    running_loss = 0.0\n",
    "    for batch_idx, data in enumerate (train_loader, 0):\n",
    "        inputs, target = data\n",
    "#        inputs, target = inputs.to(device), target.to(device) #gpu\n",
    "#         print(inputs)\n",
    "        optimizer.zero_grad()\n",
    "        # forward + backward + update\n",
    "        outputs = model(inputs)\n",
    "        loss = criterion(outputs, target)\n",
    "        loss.backward()\n",
    "        optimizer.step()\n",
    "                                      \n",
    "        running_loss += loss.item()\n",
    "        if batch_idx % 300 == 299:\n",
    "            print ('[%d, %5d] loss: %.3f' % (epoch + 1 , batch_idx + 1 , running_loss / 300))\n",
    "            running_loss = 0.0"
   ]
  },
  {
   "cell_type": "code",
   "execution_count": 27,
   "metadata": {
    "ExecuteTime": {
     "end_time": "2020-07-05T04:06:12.284876Z",
     "start_time": "2020-07-05T04:06:12.278059Z"
    }
   },
   "outputs": [],
   "source": [
    "def test():\n",
    "    correct = 0\n",
    "    total = 0\n",
    "    with torch.no_grad():\n",
    "        for data in test_loader:\n",
    "            images, labels = data\n",
    "            outputs = model(images)\n",
    "            _, predicted = torch.max(outputs.data, dim= 1)\n",
    "            total += labels.size( 0)\n",
    "            correct += (predicted == labels).sum().item()\n",
    "    print ('Accuracy on test set: %d %%' % (100 * correct /total))"
   ]
  },
  {
   "cell_type": "code",
   "execution_count": 28,
   "metadata": {
    "ExecuteTime": {
     "end_time": "2020-07-05T04:19:19.775219Z",
     "start_time": "2020-07-05T04:06:12.418572Z"
    }
   },
   "outputs": [
    {
     "name": "stdout",
     "output_type": "stream",
     "text": [
      "[1,   300] loss: 0.641\n",
      "[1,   600] loss: 0.180\n",
      "[1,   900] loss: 0.138\n",
      "Accuracy on test set: 97 %\n",
      "[2,   300] loss: 0.108\n",
      "[2,   600] loss: 0.092\n",
      "[2,   900] loss: 0.079\n",
      "Accuracy on test set: 97 %\n",
      "[3,   300] loss: 0.076\n",
      "[3,   600] loss: 0.073\n",
      "[3,   900] loss: 0.066\n",
      "Accuracy on test set: 98 %\n"
     ]
    }
   ],
   "source": [
    "for epoch in range (3):\n",
    "    train(epoch)\n",
    "    test()"
   ]
  },
  {
   "cell_type": "code",
   "execution_count": null,
   "metadata": {},
   "outputs": [],
   "source": []
  },
  {
   "cell_type": "code",
   "execution_count": null,
   "metadata": {},
   "outputs": [],
   "source": []
  },
  {
   "cell_type": "code",
   "execution_count": null,
   "metadata": {},
   "outputs": [],
   "source": []
  }
 ],
 "metadata": {
  "kernelspec": {
   "display_name": "Python 3",
   "language": "python",
   "name": "python3"
  },
  "language_info": {
   "codemirror_mode": {
    "name": "ipython",
    "version": 3
   },
   "file_extension": ".py",
   "mimetype": "text/x-python",
   "name": "python",
   "nbconvert_exporter": "python",
   "pygments_lexer": "ipython3",
   "version": "3.7.6"
  },
  "varInspector": {
   "cols": {
    "lenName": 16,
    "lenType": 16,
    "lenVar": 40
   },
   "kernels_config": {
    "python": {
     "delete_cmd_postfix": "",
     "delete_cmd_prefix": "del ",
     "library": "var_list.py",
     "varRefreshCmd": "print(var_dic_list())"
    },
    "r": {
     "delete_cmd_postfix": ") ",
     "delete_cmd_prefix": "rm(",
     "library": "var_list.r",
     "varRefreshCmd": "cat(var_dic_list()) "
    }
   },
   "position": {
    "height": "386px",
    "left": "986px",
    "right": "20px",
    "top": "44px",
    "width": "430px"
   },
   "types_to_exclude": [
    "module",
    "function",
    "builtin_function_or_method",
    "instance",
    "_Feature"
   ],
   "window_display": true
  }
 },
 "nbformat": 4,
 "nbformat_minor": 4
}
