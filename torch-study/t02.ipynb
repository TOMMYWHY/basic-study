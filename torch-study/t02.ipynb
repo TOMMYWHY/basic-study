{
 "cells": [
  {
   "cell_type": "code",
   "execution_count": 36,
   "metadata": {},
   "outputs": [],
   "source": [
    "import torch\n",
    "import numpy as np"
   ]
  },
  {
   "cell_type": "code",
   "execution_count": 37,
   "metadata": {},
   "outputs": [],
   "source": [
    "from torchvision import datasets\n",
    "import torchvision.transforms as transforms\n",
    "from torch.utils.data.sampler import SubsetRandomSampler\n",
    "import torch.nn as nn\n",
    "import torch.nn.functional as F"
   ]
  },
  {
   "cell_type": "code",
   "execution_count": 38,
   "metadata": {},
   "outputs": [
    {
     "name": "stdout",
     "output_type": "stream",
     "text": [
      "Compose(\n",
      "    ToTensor()\n",
      "    Normalize(mean=(0.5, 0.5, 0.5), std=(0.5, 0.5, 0.5))\n",
      ")\n",
      "Files already downloaded and verified\n",
      "Files already downloaded and verified\n"
     ]
    },
    {
     "data": {
      "text/plain": [
       "Dataset CIFAR10\n",
       "    Number of datapoints: 50000\n",
       "    Root location: data\n",
       "    Split: Train\n",
       "    StandardTransform\n",
       "Transform: Compose(\n",
       "               ToTensor()\n",
       "               Normalize(mean=(0.5, 0.5, 0.5), std=(0.5, 0.5, 0.5))\n",
       "           )"
      ]
     },
     "execution_count": 38,
     "metadata": {},
     "output_type": "execute_result"
    }
   ],
   "source": [
    "num_workers=0\n",
    "batch_size=20\n",
    "valid_size=0.2\n",
    "\n",
    "transform = transforms.Compose([transforms.ToTensor(),transforms.Normalize((0.5,0.5,0.5),(0.5,0.5,0.5))])\n",
    "print(transform)\n",
    "train_data = datasets.CIFAR10('data',train=True,download=True,transform=transform)\n",
    "test_data = datasets.CIFAR10('data',train=False,download=True,transform=transform)\n",
    "train_data"
   ]
  },
  {
   "cell_type": "code",
   "execution_count": null,
   "metadata": {},
   "outputs": [],
   "source": []
  },
  {
   "cell_type": "code",
   "execution_count": 39,
   "metadata": {},
   "outputs": [],
   "source": [
    "train_loader = torch.utils.data.DataLoader(train_data,batch_size=256,shuffle=True,num_workers=0)\n",
    "test_loader = torch.utils.data.DataLoader(test_data,batch_size=256,shuffle=True,num_workers=0)"
   ]
  },
  {
   "cell_type": "code",
   "execution_count": 40,
   "metadata": {},
   "outputs": [
    {
     "data": {
      "text/plain": [
       "<torch.utils.data.dataloader.DataLoader at 0x12e3fdac8>"
      ]
     },
     "execution_count": 40,
     "metadata": {},
     "output_type": "execute_result"
    }
   ],
   "source": [
    "train_loader"
   ]
  },
  {
   "cell_type": "code",
   "execution_count": 50,
   "metadata": {},
   "outputs": [],
   "source": [
    "import matplotlib.pyplot as plt\n",
    "def imshow(img):\n",
    "    img= img/2+0.5\n",
    "    npimg=img.numpy()\n",
    "    plt.imshow(np.transpose(npimg,(1,2,0)))\n",
    "    plt.show()\n",
    "    \n",
    "dataIter= iter(train_loader)\n",
    "images,labels=dataIter.next()"
   ]
  },
  {
   "cell_type": "code",
   "execution_count": 51,
   "metadata": {},
   "outputs": [
    {
     "data": {
      "text/plain": [
       "tensor([6, 4, 5, 4, 6, 4, 7, 1, 0, 1, 3, 7, 7, 8, 8, 6, 9, 8, 4, 9, 9, 7, 7, 6,\n",
       "        4, 6, 5, 8, 9, 3, 4, 8, 4, 1, 0, 9, 5, 4, 5, 2, 2, 3, 8, 7, 5, 5, 9, 2,\n",
       "        1, 2, 2, 8, 4, 7, 2, 8, 1, 4, 6, 1, 0, 5, 2, 8, 1, 6, 7, 6, 8, 8, 6, 0,\n",
       "        3, 5, 3, 5, 4, 1, 4, 7, 7, 9, 0, 4, 9, 6, 2, 6, 5, 1, 1, 8, 2, 8, 5, 7,\n",
       "        5, 5, 8, 1, 6, 7, 6, 1, 4, 3, 9, 9, 1, 8, 4, 0, 8, 5, 6, 3, 1, 9, 3, 0,\n",
       "        9, 0, 8, 8, 2, 1, 8, 6, 2, 5, 8, 0, 4, 6, 2, 1, 8, 6, 7, 0, 9, 5, 3, 0,\n",
       "        1, 8, 1, 4, 0, 0, 2, 8, 4, 6, 5, 7, 1, 9, 5, 1, 6, 1, 5, 7, 4, 6, 3, 7,\n",
       "        2, 5, 6, 1, 3, 4, 1, 8, 9, 4, 9, 5, 3, 4, 3, 3, 7, 8, 3, 5, 4, 0, 2, 1,\n",
       "        0, 4, 7, 0, 1, 5, 8, 5, 0, 4, 6, 5, 5, 1, 5, 0, 3, 3, 2, 5, 5, 0, 2, 6,\n",
       "        8, 0, 8, 5, 9, 4, 0, 4, 4, 9, 7, 3, 6, 2, 7, 4, 7, 8, 7, 3, 6, 6, 1, 9,\n",
       "        3, 3, 5, 5, 2, 6, 4, 9, 7, 1, 6, 6, 9, 2, 4, 2])"
      ]
     },
     "execution_count": 51,
     "metadata": {},
     "output_type": "execute_result"
    }
   ],
   "source": [
    "labels"
   ]
  },
  {
   "cell_type": "code",
   "execution_count": 52,
   "metadata": {},
   "outputs": [
    {
     "data": {
      "text/plain": [
       "torch.Size([256, 3, 32, 32])"
      ]
     },
     "execution_count": 52,
     "metadata": {},
     "output_type": "execute_result"
    }
   ],
   "source": [
    "images.shape"
   ]
  },
  {
   "cell_type": "code",
   "execution_count": 53,
   "metadata": {},
   "outputs": [
    {
     "data": {
      "text/plain": [
       "tensor([[[ 0.6549,  0.5373,  0.4196,  ..., -0.1216, -0.2235, -0.2706],\n",
       "         [ 1.0000,  0.8667,  0.5137,  ...,  0.0039, -0.1216, -0.2000],\n",
       "         [ 0.5843,  0.3882,  0.0431,  ..., -0.0353,  0.0902,  0.0745],\n",
       "         ...,\n",
       "         [-0.0118, -0.3020, -0.5451,  ..., -0.1922, -0.4196, -0.4118],\n",
       "         [-0.3098, -0.2000, -0.5216,  ..., -0.1294,  0.1529,  0.2784],\n",
       "         [-0.4510, -0.2627, -0.4039,  ...,  0.3569,  0.3647,  0.2706]],\n",
       "\n",
       "        [[ 0.6549,  0.5216,  0.4039,  ..., -0.2078, -0.3098, -0.3255],\n",
       "         [ 0.9843,  0.8353,  0.4667,  ..., -0.0824, -0.2000, -0.2706],\n",
       "         [ 0.4275,  0.2314, -0.1451,  ..., -0.1216,  0.0039, -0.0118],\n",
       "         ...,\n",
       "         [-0.0902, -0.3804, -0.6235,  ..., -0.1529, -0.4196, -0.4353],\n",
       "         [-0.3961, -0.2784, -0.6078,  ..., -0.1294,  0.1373,  0.2549],\n",
       "         [-0.5294, -0.3412, -0.4902,  ...,  0.3569,  0.3569,  0.2471]],\n",
       "\n",
       "        [[ 0.6392,  0.5529,  0.4745,  ...,  0.0431, -0.0667, -0.1294],\n",
       "         [ 0.9843,  0.8745,  0.6000,  ...,  0.1686,  0.0353, -0.0745],\n",
       "         [ 0.6157,  0.4039,  0.1451,  ...,  0.1294,  0.2471,  0.1922],\n",
       "         ...,\n",
       "         [ 0.1216, -0.1922, -0.4039,  ..., -0.0039, -0.1843, -0.2157],\n",
       "         [-0.1686, -0.0902, -0.3647,  ..., -0.0431,  0.2471,  0.3804],\n",
       "         [-0.3333, -0.1451, -0.2471,  ...,  0.4196,  0.4118,  0.3804]]])"
      ]
     },
     "execution_count": 53,
     "metadata": {},
     "output_type": "execute_result"
    }
   ],
   "source": [
    "images[0]"
   ]
  },
  {
   "cell_type": "code",
   "execution_count": null,
   "metadata": {},
   "outputs": [],
   "source": []
  },
  {
   "cell_type": "code",
   "execution_count": 16,
   "metadata": {},
   "outputs": [
    {
     "name": "stdout",
     "output_type": "stream",
     "text": [
      "50000\n"
     ]
    }
   ],
   "source": [
    "num_train = len(train_data)\n",
    "print(num_train)\n",
    "indices= list(range(num_train))\n",
    "# indeces\n",
    "np.random.shuffle(indeces)\n",
    "split=int(np.floor(valid_size*num_train))\n",
    "trian_idx,valid_idx = indices[split:],indices[:split]\n",
    "# tian_idx"
   ]
  },
  {
   "cell_type": "code",
   "execution_count": 21,
   "metadata": {},
   "outputs": [
    {
     "data": {
      "text/plain": [
       "<torch.utils.data.sampler.SubsetRandomSampler at 0x123f7da90>"
      ]
     },
     "execution_count": 21,
     "metadata": {},
     "output_type": "execute_result"
    }
   ],
   "source": [
    "train_sampler= SubsetRandomSampler(trian_idx)\n",
    "train_sampler"
   ]
  },
  {
   "cell_type": "code",
   "execution_count": 23,
   "metadata": {},
   "outputs": [
    {
     "data": {
      "text/plain": [
       "<torch.utils.data.dataloader.DataLoader at 0x123f7db38>"
      ]
     },
     "execution_count": 23,
     "metadata": {},
     "output_type": "execute_result"
    }
   ],
   "source": [
    "train_loader = torch.utils.data.DataLoader(train_data,batch_size=batch_size,sampler=train_sampler,num_workers=num_workers)\n",
    "train_loader"
   ]
  },
  {
   "cell_type": "code",
   "execution_count": 33,
   "metadata": {},
   "outputs": [],
   "source": [
    "class ConvBlock(nn.Module):\n",
    "    def __init__(self,in_channels,out_channels,use_pool=True):\n",
    "        super(ConvBlock,self).__init__()\n",
    "        self.use_pool=use_pool\n",
    "        self.conv=nn.Conv2d(in_channels,out_channels, kernel_size=3,padding=1)\n",
    "        self.maxpool=nn.MaxPool2d(kernel_size=2)\n",
    "        \n",
    "    def forward(self,x):\n",
    "        x= self.conv(x)\n",
    "        x=F.relu(x)\n",
    "        \n",
    "        if self.use_pool:\n",
    "            out = self.maxpool(x)\n",
    "        else:\n",
    "            out=x\n",
    "        return out\n",
    "            "
   ]
  },
  {
   "cell_type": "code",
   "execution_count": 34,
   "metadata": {},
   "outputs": [],
   "source": [
    "class ConvNet(nn.Module):\n",
    "    def __init__(self,num_classes=10):\n",
    "        super(ConvNet,self).__init__()\n",
    "        self.conv1=ConvBlock(1,32)\n",
    "        self.conv2=ConvBlock(32,64)\n",
    "        \n",
    "        self.classifier=nn.Sequential(\n",
    "            nn.Linear(64*7*7,1024),\n",
    "            nn.ReLU(inplace=True),\n",
    "            nn.Dropout(),\n",
    "            nn.Linear(1024,256),\n",
    "            nn.Dropout(),\n",
    "            nn.Linear(256,num_classes)\n",
    "        )\n",
    "        \n",
    "    def forward(self,x):\n",
    "        x= self.conv1(x)\n",
    "        x= self.conv2(x)\n",
    "        \n",
    "        x=torch.flatten(x,1)\n",
    "        out=self.classifier(x)\n",
    "        return out\n",
    "            "
   ]
  },
  {
   "cell_type": "code",
   "execution_count": 35,
   "metadata": {},
   "outputs": [],
   "source": [
    "net = ConvNet()"
   ]
  },
  {
   "cell_type": "code",
   "execution_count": null,
   "metadata": {},
   "outputs": [],
   "source": []
  },
  {
   "cell_type": "code",
   "execution_count": null,
   "metadata": {},
   "outputs": [],
   "source": []
  }
 ],
 "metadata": {
  "kernelspec": {
   "display_name": "Python 3",
   "language": "python",
   "name": "python3"
  },
  "language_info": {
   "codemirror_mode": {
    "name": "ipython",
    "version": 3
   },
   "file_extension": ".py",
   "mimetype": "text/x-python",
   "name": "python",
   "nbconvert_exporter": "python",
   "pygments_lexer": "ipython3",
   "version": "3.6.10"
  }
 },
 "nbformat": 4,
 "nbformat_minor": 4
}
